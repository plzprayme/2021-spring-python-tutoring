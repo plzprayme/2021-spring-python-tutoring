{
  "nbformat": 4,
  "nbformat_minor": 0,
  "metadata": {
    "colab": {
      "name": "class.ipynb",
      "provenance": []
    },
    "kernelspec": {
      "name": "python3",
      "display_name": "Python 3"
    },
    "language_info": {
      "name": "python"
    }
  },
  "cells": [
    {
      "cell_type": "markdown",
      "metadata": {
        "id": "Yz0fc2qRIrZK"
      },
      "source": [
        "# Class\n"
      ]
    },
    {
      "cell_type": "code",
      "metadata": {
        "id": "FIKvu9CVJeTk"
      },
      "source": [
        "class Person:\n",
        "  def __init__(self, name, blood_type):\n",
        "        self.name = name\n",
        "        self.blood_type = blood_type\n",
        "\n",
        "  def introduce(self):\n",
        "    print(f\"Hello, I'm {self.name}!\")\n",
        "    print(f\"My blood type is {self.blood_type}!\")\n",
        "\n",
        "  def greeting(self):\n",
        "      print('Hello')"
      ],
      "execution_count": 42,
      "outputs": []
    },
    {
      "cell_type": "code",
      "metadata": {
        "id": "74JnBpX6Oq7E"
      },
      "source": [
        "class SeongChan(Person):\n",
        "  def swing_arm(self):\n",
        "    print(\"swing arms~\")"
      ],
      "execution_count": 43,
      "outputs": []
    },
    {
      "cell_type": "code",
      "metadata": {
        "id": "G1IEE8XLO_UA"
      },
      "source": [
        "class ChiWan(Person):\n",
        "  def swing_leg(self):\n",
        "    print(\"swing legs~\")"
      ],
      "execution_count": 44,
      "outputs": []
    },
    {
      "cell_type": "code",
      "metadata": {
        "id": "CeV3PHzTRsJS"
      },
      "source": [
        "class SooHyun():\n",
        "  def swing_neck(self):\n",
        "    print(\"swing neck~\")"
      ],
      "execution_count": 45,
      "outputs": []
    },
    {
      "cell_type": "code",
      "metadata": {
        "colab": {
          "base_uri": "https://localhost:8080/",
          "height": 133
        },
        "id": "w2-CEAc7RzMe",
        "outputId": "74917ce9-a0c3-4fee-fda7-b8083dffbf7d"
      },
      "source": [
        "class HyunSoo(Person):\n",
        "  def swing_eye(self):\n",
        "    print(swing eyes~)"
      ],
      "execution_count": 46,
      "outputs": [
        {
          "output_type": "error",
          "ename": "SyntaxError",
          "evalue": "ignored",
          "traceback": [
            "\u001b[0;36m  File \u001b[0;32m\"<ipython-input-46-06a9bff0747d>\"\u001b[0;36m, line \u001b[0;32m3\u001b[0m\n\u001b[0;31m    print(swing eyes~)\u001b[0m\n\u001b[0m                   ^\u001b[0m\n\u001b[0;31mSyntaxError\u001b[0m\u001b[0;31m:\u001b[0m invalid syntax\n"
          ]
        }
      ]
    },
    {
      "cell_type": "code",
      "metadata": {
        "id": "Vxk8hV6WJjmZ"
      },
      "source": [
        "seongchan = SeongChan(\"성찬\", \"A\")\n",
        "chiwan = ChiWan(\"치완\", \"O\")"
      ],
      "execution_count": null,
      "outputs": []
    },
    {
      "cell_type": "code",
      "metadata": {
        "id": "GRH0SrhSO4cF"
      },
      "source": [
        "seongchan.introduce()\n",
        "seongchan.greeting()\n",
        "seongchan.swing_arm()\n",
        "\n",
        "chiwan.introduce()\n",
        "chiwan.greeting()\n",
        "chiwan.swing_leg()"
      ],
      "execution_count": null,
      "outputs": []
    },
    {
      "cell_type": "code",
      "metadata": {
        "id": "zAMr9-o2KKg6"
      },
      "source": [
        "chiwan.introduce()"
      ],
      "execution_count": null,
      "outputs": []
    },
    {
      "cell_type": "code",
      "metadata": {
        "colab": {
          "base_uri": "https://localhost:8080/"
        },
        "id": "MFExpLy4LDu4",
        "outputId": "959e4a2d-b763-41a9-a45b-8eb379b5a090"
      },
      "source": [
        "chiwan.greeting()"
      ],
      "execution_count": 47,
      "outputs": [
        {
          "output_type": "stream",
          "text": [
            "Hello\n"
          ],
          "name": "stdout"
        }
      ]
    },
    {
      "cell_type": "code",
      "metadata": {
        "id": "WqU10YavLE6J"
      },
      "source": [
        "# 1. 클래스 안의 변수를 뭐라고 부를까요? - 멤버 변수 / 속성\n",
        "# 2. 클래스 안의 함수를 뭐라고 부를까요? - 메서드"
      ],
      "execution_count": 48,
      "outputs": []
    }
  ]
}