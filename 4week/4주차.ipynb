{
  "nbformat": 4,
  "nbformat_minor": 0,
  "metadata": {
    "colab": {
      "name": "4주차.ipynb",
      "provenance": [],
      "collapsed_sections": []
    },
    "kernelspec": {
      "name": "python3",
      "display_name": "Python 3"
    },
    "language_info": {
      "name": "python"
    }
  },
  "cells": [
    {
      "cell_type": "markdown",
      "metadata": {
        "id": "xRYV1AhY_mTd"
      },
      "source": [
        "# 4주차\n",
        "## 리스트에 요소 추가하기"
      ]
    },
    {
      "cell_type": "code",
      "metadata": {
        "id": "PZiM_t6N_qwm"
      },
      "source": [
        "# 가장 큰 문제점: 프로그램이 실행하고 있을 때는 추가를 할 수가 없다.\n",
        "\n",
        "student = ['황성찬', '신현수', '송치완', '이상빈']\n",
        "# student2 = ['황성찬', '신현수', '송치완', '이상빈', '권준호', '이용현']\n",
        "# student3 = ['황성찬', '신현수', '송치완', '이상빈', '권준호', '이용현', '김정태']"
      ],
      "execution_count": 7,
      "outputs": []
    },
    {
      "cell_type": "code",
      "metadata": {
        "colab": {
          "base_uri": "https://localhost:8080/"
        },
        "id": "t_mTuLhm_tRk",
        "outputId": "4f903f87-3f9f-44a9-9bdc-e4c45d2851f3"
      },
      "source": [
        "# 프로그램이 실행 중이어도 추가를 할 수 있다.\n",
        "\n",
        "print(f'추가하기 전: {student}')\n",
        "student.append('권준호')\n",
        "print(f'추가한 후 : {student}')"
      ],
      "execution_count": 6,
      "outputs": [
        {
          "output_type": "stream",
          "text": [
            "추가하기 전: ['황성찬', '신현수', '송치완', '이상빈']\n",
            "추가한 후 : ['황성찬', '신현수', '송치완', '이상빈', '권준호']\n"
          ],
          "name": "stdout"
        }
      ]
    },
    {
      "cell_type": "code",
      "metadata": {
        "colab": {
          "base_uri": "https://localhost:8080/"
        },
        "id": "4RvVH4cvAl2g",
        "outputId": "97ef67b7-e7be-46d3-95ce-b0e505528883"
      },
      "source": [
        "empty = []\n",
        "print(f'추가하기 전: {empty}')\n",
        "empty.append(\"not empty\")\n",
        "print(f'추가한 후 : {empty}')"
      ],
      "execution_count": 9,
      "outputs": [
        {
          "output_type": "stream",
          "text": [
            "추가하기 전: []\n",
            "추가한 후 : ['not empty']\n"
          ],
          "name": "stdout"
        }
      ]
    },
    {
      "cell_type": "code",
      "metadata": {
        "colab": {
          "base_uri": "https://localhost:8080/"
        },
        "id": "VK5MmZCQBIJh",
        "outputId": "396e7f44-c515-4f2a-db66-816d969667c3"
      },
      "source": [
        "append_list = [10, 20, 30]\n",
        "extend_list = [10, 20, 30]\n",
        "\n",
        "append_list.append([40, 50, 60, 70, 80, 90, 100, 110, 120])\n",
        "extend_list.extend([40, 50, 60, 70, 80, 90, 100, 110, 120])\n",
        "\n",
        "print(len(append_list))\n",
        "print(len(extend_list))"
      ],
      "execution_count": 16,
      "outputs": [
        {
          "output_type": "stream",
          "text": [
            "4\n",
            "12\n"
          ],
          "name": "stdout"
        }
      ]
    },
    {
      "cell_type": "code",
      "metadata": {
        "colab": {
          "base_uri": "https://localhost:8080/"
        },
        "id": "H_5d6tqXBevo",
        "outputId": "91ea2dcb-73b2-4629-b87e-95f32f8aa66d"
      },
      "source": [
        "insert_list = [10, 20, 30]\n",
        "print(f'추가하기 전: {insert_list}')\n",
        "insert_list.insert(2, 300)\n",
        "print(f'추가한 후 : {insert_list}')"
      ],
      "execution_count": 20,
      "outputs": [
        {
          "output_type": "stream",
          "text": [
            "추가하기 전: [10, 20, 30]\n",
            "추가한 후 : [10, 20, 300, 30]\n"
          ],
          "name": "stdout"
        }
      ]
    },
    {
      "cell_type": "markdown",
      "metadata": {
        "id": "mgPpJWWdCmU_"
      },
      "source": [
        "## 리스트 요소 삭제하기"
      ]
    },
    {
      "cell_type": "code",
      "metadata": {
        "id": "99snxGRsCydj"
      },
      "source": [
        "def b(before_list):\n",
        "  # y = 2x\n",
        "  print(f'추가하기 전: {before_list}')\n",
        "\n",
        "def a(x):\n",
        "  # y = 3x\n",
        "  print(f'추가한 후: {x}')"
      ],
      "execution_count": 51,
      "outputs": []
    },
    {
      "cell_type": "code",
      "metadata": {
        "colab": {
          "base_uri": "https://localhost:8080/"
        },
        "id": "0pPz2MlJCntv",
        "outputId": "a2d80b74-10e6-4f50-c5d6-0cad9ec1824a"
      },
      "source": [
        "pop_list = [10, 20, 30]\n",
        "b(pop_list) # [10. 20, 30]\n",
        "pop_list.pop() # [10, 20]\n",
        "a(pop_list)  "
      ],
      "execution_count": 52,
      "outputs": [
        {
          "output_type": "stream",
          "text": [
            "추가하기 전: [10, 20, 30]\n",
            "추가한 후: [10, 20]\n"
          ],
          "name": "stdout"
        }
      ]
    },
    {
      "cell_type": "code",
      "metadata": {
        "colab": {
          "base_uri": "https://localhost:8080/"
        },
        "id": "ckiLBeqsC_1j",
        "outputId": "8b3360c8-b35e-403b-b566-f756295bc081"
      },
      "source": [
        "pop_list2 = [10, 20, 30]\n",
        "b(pop_list2)\n",
        "pop_list2.pop(1)\n",
        "a(pop_list2)"
      ],
      "execution_count": 25,
      "outputs": [
        {
          "output_type": "stream",
          "text": [
            "추가하기 전: [10, 20, 30]\n",
            "추가하기 전: [10, 30]\n"
          ],
          "name": "stdout"
        }
      ]
    },
    {
      "cell_type": "code",
      "metadata": {
        "colab": {
          "base_uri": "https://localhost:8080/"
        },
        "id": "QFqeQ0ILDMLK",
        "outputId": "cfe38979-3533-492b-86ef-b9d0807eb299"
      },
      "source": [
        "remove_list = [10, 20, 30]\n",
        "b(remove_list)\n",
        "remove_list.remove(20)\n",
        "a(remove_list)"
      ],
      "execution_count": 28,
      "outputs": [
        {
          "output_type": "stream",
          "text": [
            "추가하기 전: [10, 20, 30]\n",
            "추가하기 전: [10, 30]\n"
          ],
          "name": "stdout"
        }
      ]
    },
    {
      "cell_type": "code",
      "metadata": {
        "colab": {
          "base_uri": "https://localhost:8080/"
        },
        "id": "qmL53Uq_Dasu",
        "outputId": "0b7ba06a-ab5c-428b-d246-b8dd4589982f"
      },
      "source": [
        "index_list = [10, 20, 30, 15, 20, 40]\n",
        "print(index_list[index_list.index(10)])"
      ],
      "execution_count": 32,
      "outputs": [
        {
          "output_type": "stream",
          "text": [
            "10\n"
          ],
          "name": "stdout"
        }
      ]
    },
    {
      "cell_type": "code",
      "metadata": {
        "colab": {
          "base_uri": "https://localhost:8080/"
        },
        "id": "rSao109AD0If",
        "outputId": "ac32db37-7ae4-4105-a34c-4cce235e67ed"
      },
      "source": [
        "count_list = [10, 20, 20, 15]\n",
        "print(count_list.count(20))\n",
        "print(count_list.count(0))"
      ],
      "execution_count": 35,
      "outputs": [
        {
          "output_type": "stream",
          "text": [
            "2\n",
            "0\n"
          ],
          "name": "stdout"
        }
      ]
    },
    {
      "cell_type": "code",
      "metadata": {
        "colab": {
          "base_uri": "https://localhost:8080/"
        },
        "id": "Ke2rxBWYEigL",
        "outputId": "5c0db411-6838-41b7-bbd0-c9aa320895f8"
      },
      "source": [
        "reverse_list = [10, 20, 30]\n",
        "b(reverse_list)\n",
        "reverse_list.reverse()\n",
        "a(reverse_list)"
      ],
      "execution_count": 36,
      "outputs": [
        {
          "output_type": "stream",
          "text": [
            "추가하기 전: [10, 20, 30]\n",
            "추가하기 전: [30, 20, 10]\n"
          ],
          "name": "stdout"
        }
      ]
    },
    {
      "cell_type": "code",
      "metadata": {
        "colab": {
          "base_uri": "https://localhost:8080/"
        },
        "id": "KMwRBiEvEtGm",
        "outputId": "918c8339-a773-47d8-95f2-5af46932e5bd"
      },
      "source": [
        "sort_list = [25, 1, 14, -1, 3333, -12314]\n",
        "b(sort_list)\n",
        "sort_list.sort(key = lambda x: x < 10)\n",
        "a(sort_list)"
      ],
      "execution_count": 42,
      "outputs": [
        {
          "output_type": "stream",
          "text": [
            "추가하기 전: [25, 1, 14, -1, 3333, -12314]\n",
            "추가하기 전: [25, 14, 3333, 1, -1, -12314]\n"
          ],
          "name": "stdout"
        }
      ]
    },
    {
      "cell_type": "code",
      "metadata": {
        "id": "RUkWqoYNIcb9"
      },
      "source": [
        "# 재귀 대명사\n",
        "# myself\n",
        "\n",
        "# f(x) = 2x \n",
        "\n",
        "# f(x) = 2x\n",
        "# f(f(x)) = 2 * 2x\n",
        "# f(f(f(x))) = 2 * 2 * 2x\n",
        "\n",
        "# 7 6 5 4 3 2 1\n",
        "# 6 5 4 3 2 1\n",
        "# 5 4 3 2 1\n",
        "\n",
        "# 재귀 포인트\n",
        "# 종료조건\n",
        "# 파라미터(매개변수)\n",
        "# return 값\n",
        "def factorial(x):\n",
        "  if x == 1:\n",
        "    return x\n",
        "  return x * factorial(x-1)"
      ],
      "execution_count": 86,
      "outputs": []
    },
    {
      "cell_type": "code",
      "metadata": {
        "colab": {
          "base_uri": "https://localhost:8080/"
        },
        "id": "KAQsOVBuJjjn",
        "outputId": "bff890ce-e780-4172-9a80-fc30fc826106"
      },
      "source": [
        "print(\"(나는 factorial 아님)\", factorial(3))\n",
        "print(\"(나는 factorial 아님)\", factorial(4))\n",
        "print(\"(나는 factorial 아님)\", factorial(5))"
      ],
      "execution_count": 87,
      "outputs": [
        {
          "output_type": "stream",
          "text": [
            "(나는 factorial 아님) 6\n",
            "(나는 factorial 아님) 24\n",
            "(나는 factorial 아님) 120\n"
          ],
          "name": "stdout"
        }
      ]
    },
    {
      "cell_type": "code",
      "metadata": {
        "colab": {
          "base_uri": "https://localhost:8080/"
        },
        "id": "9iToWg9QE7CY",
        "outputId": "bb99b40a-5208-4667-ea78-4624866e6aba"
      },
      "source": [
        "# 팩토리얼 5!\n",
        "# 5! = 5*4*3*2*1\n",
        "\n",
        "# 반복문으로 풀어봅시다.\n",
        "answer = 1\n",
        "for i in range(1, 6):\n",
        "  # print(i)\n",
        "  answer *= i\n",
        "\n",
        "print(answer)\n",
        "\n",
        "# 재귀== 반복문"
      ],
      "execution_count": 63,
      "outputs": [
        {
          "output_type": "stream",
          "text": [
            "120\n"
          ],
          "name": "stdout"
        }
      ]
    },
    {
      "cell_type": "markdown",
      "metadata": {
        "id": "vU1GEjvPHJYd"
      },
      "source": [
        "## 함수 (Function)# x = 1"
      ]
    },
    {
      "cell_type": "code",
      "metadata": {
        "id": "8lNbJ34bGTHV"
      },
      "source": [
        ""
      ],
      "execution_count": null,
      "outputs": []
    }
  ]
}