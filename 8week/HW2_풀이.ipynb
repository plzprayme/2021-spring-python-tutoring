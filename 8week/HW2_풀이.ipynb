{
  "nbformat": 4,
  "nbformat_minor": 0,
  "metadata": {
    "colab": {
      "name": "HW2_풀이.ipynb",
      "provenance": [],
      "collapsed_sections": []
    },
    "kernelspec": {
      "name": "python3",
      "display_name": "Python 3"
    },
    "language_info": {
      "name": "python"
    }
  },
  "cells": [
    {
      "cell_type": "markdown",
      "metadata": {
        "id": "7moFH7Bpshcs"
      },
      "source": [
        "# HNU CE Python Programming (2021 1학기) HW2\n",
        "- 이름:\n",
        "- 학번:\n",
        "\n",
        "\n",
        "다양한 정렬 알고리듬을 작성해 보는 것도 프로그래밍의 기초를 익히는 데 좋은 공부가 되지만\n",
        "실제 활용에서는 자신이 원하는 기준으로 자유자재로 정렬할 줄 아는 것이 매우 중요하다.\n",
        "이런 것을 확실히 짚고 넘어가자는 의미에서 출제된 과제이다."
      ]
    },
    {
      "cell_type": "markdown",
      "metadata": {
        "id": "z94vCYaBsehb"
      },
      "source": [
        "----\n",
        "## 문제 1. 정렬 기준을 설정할 수 있도록 merge_sort 함수 변경 (5점)\n",
        "수업시간에`merge_sort`를 bottom-up 방식으로 작성한 코드를 그대로 가져다 놓았다.\n",
        "현재 `merge_sort(xs)`와 같이 리스트 인자를 넘기는 하나의 파라미터만으로 정의된 함수를\n",
        "변경하여 `merge_sort(xs,key=func)`와 같이 키워드 파라미터에 `func` 함수로 넘겨주어\n",
        "정렬 기준을 필요에 따라 바꿔서 설정할 수 있게 하라. `func`가 `lambda x: x`일 때,\n",
        "즉 `merge_sort(xs,key=(lambda x: x))`일 때 기본 정렬기준으로 (그러니까 변형하기 전과 똑같이) 동작해야 한다.\n",
        "\n",
        "참고로 주요 알고리듬은 `msort` 함수에 작성되어 있고 `merge_sort`는 데이터를 \n",
        "적절이 변환하여 `msort`를 호출하며, 또 `msort`는 `merge` 함수를 호출해\n",
        "정렬된 부분 리스트들을 병합한다. 그러므로 `merge_sort` 뿐만 아니라\n",
        "`msort`와 `merge` 함수도 변경해야 할 수 있다.\n",
        "\n",
        "`msort`는 2중 리스트 즉 리스트를 원소 포함하는 리스트를\n",
        "받아 원소 리스트를 계속 합병해 2중 리스트 안에 하나의 리스트 원소만 남을 때까지 합병.\n",
        "\n",
        "```\n",
        "   msort( [ [4], [2], [1], [3] ] )\n",
        "=> msort( [ [2,4], [1,3] ] ) \n",
        "=> msort( [ [1,2,3,4] ] )\n",
        "=> [ [1,2,3,4] ]\n",
        "```\n",
        "\n",
        "`msort(xss)`를 정의하기 위한 알고리즘\n",
        " - 반복조건 `len(xss) > 1`:\n",
        "     - xss의 원소들을 두개씩 merge한 리스트로 재귀호출.\n",
        "     - 단, 리스트의 길이가 홀수여서 마지막에 원소가 짝이 맞지 않아 합병할 수 없으면 그대로 둔다.\n",
        " - 종료조건 `len(xss) == 1`: xss를 그대로 리턴"
      ]
    },
    {
      "cell_type": "code",
      "metadata": {
        "id": "O1GXFi12sV_X"
      },
      "source": [
        "def merge_sort(xs, key):\n",
        "    try:\n",
        "      key(0)\n",
        "      key = ascending\n",
        "    except TypeError:\n",
        "      pass\n",
        "\n",
        "\n",
        "    xss = [ [x] for x in xs ] # 리스트 조건제시법 list comperehension\n",
        "\n",
        "    [ss] = msort(xss, key)\n",
        "    return ss\n",
        "\n",
        "def msort(xss, key): # bottom-up이라 알고리즘 정의대로 작성하면 자연스럽게 꼬리재귀가 된다\n",
        "    if len(xss) > 1:\n",
        "        value = msort( [ merge(xss[i],xss[i+1], key) if i+1 < len(xss) else xss[i]\n",
        "                          for i in range(0,len(xss),2) ], key )\n",
        "        return value\n",
        "    else:\n",
        "        return xss\n",
        "\n",
        "def merge(left,right, key): # 실습 5.9: merge 함수 while 버전\n",
        "    ss = []\n",
        "    while not (left == [] or right == []): # 비어 있으면 반복하지 않는다.\n",
        "        if key(left[0], right[0]):\n",
        "            ss.append( left[0] )  # 끝에 원소 하나 붙이기\n",
        "            left = left[1:]\n",
        "        else:\n",
        "            ss.append( right[0] ) # 끝에 원소 하나 붙이기\n",
        "            right = right[1:]\n",
        "\n",
        "    ss.extend(left)  # 끝에 리스트 연장\n",
        "    ss.extend(right) # 끝에 리스트 연장\n",
        "    return ss"
      ],
      "execution_count": 151,
      "outputs": []
    },
    {
      "cell_type": "code",
      "metadata": {
        "id": "iNvVwL4BRpFY"
      },
      "source": [
        "ascending = lambda l, r: l <= r\n",
        "illegal = lambda x: x\n",
        "\n",
        "def test_helper(odd_list, even_list, case, sort_by):\n",
        "  print(case)\n",
        "  print(merge_sort( odd_list, sort_by))\n",
        "  print(merge_sort( even_list, sort_by))\n",
        "  print(\"=\" * 60)"
      ],
      "execution_count": 152,
      "outputs": []
    },
    {
      "cell_type": "code",
      "metadata": {
        "colab": {
          "base_uri": "https://localhost:8080/"
        },
        "id": "5DwgsYg2NddZ",
        "outputId": "462d5872-2a77-4b04-e713-833e4a5a0a1e"
      },
      "source": [
        "even_list = [4,2,1,3]\n",
        "odd_list = [4,2,1,3,5]\n",
        "\n",
        "test_helper(odd_list, even_list, \"<오름차순>\", ascending)\n",
        "test_helper(odd_list, even_list,\"<lambda x: x도 호환 가능>\", illegal)"
      ],
      "execution_count": 153,
      "outputs": [
        {
          "output_type": "stream",
          "text": [
            "<오름차순>\n",
            "[1, 2, 3, 4, 5]\n",
            "[1, 2, 3, 4]\n",
            "============================================================\n",
            "<lambda x: x도 호환 가능>\n",
            "[1, 2, 3, 4, 5]\n",
            "[1, 2, 3, 4]\n",
            "============================================================\n"
          ],
          "name": "stdout"
        }
      ]
    },
    {
      "cell_type": "markdown",
      "metadata": {
        "id": "EDQ7TGSVyJql"
      },
      "source": [
        "----\n",
        "## 문제 2. 정수를 증가하지 않는 순서로 정렬 (2점)\n",
        "위에서 변형한 `merge_sort`를 활용하는 문제이다.\n",
        "\n",
        "`xs`가 정수 리스트일 때 `merge_sort(xs,key=func)`의 결과가\n",
        "기본 정렬 순서와 반대로 순서로 (즉, 증가하지 않는 순서, 그러니까 가장 큰 정수가 맨 앞으로)\n",
        "정렬되도록 하고 싶다. 예컨대,\n",
        "```\n",
        "   merge_sort([1,3,2,4],key=func)\n",
        "=> [4,3,2,1]\n",
        "```\n",
        "\n",
        "키워드 파라미터 `key`에 인수로 제공할 적절한 함수 `func`가 무엇이 되어야 할지\n",
        "생각하고, 원하는 대로 동작하는지 테스트를 작성해 보라.\n"
      ]
    },
    {
      "cell_type": "code",
      "metadata": {
        "colab": {
          "base_uri": "https://localhost:8080/"
        },
        "id": "o7zKEMK0UnQK",
        "outputId": "d0545508-5e84-4918-907c-1f6826bd765c"
      },
      "source": [
        "descending = lambda l, r: l >= r\n",
        "\n",
        "even_list = [4,2,1,3]\n",
        "odd_list = [4,2,1,3,5]\n",
        "\n",
        "\n",
        "test_helper(odd_list, even_list, \"<내림차순>\", descending)"
      ],
      "execution_count": 154,
      "outputs": [
        {
          "output_type": "stream",
          "text": [
            "<내림차순>\n",
            "[5, 4, 3, 2, 1]\n",
            "[4, 3, 2, 1]\n",
            "============================================================\n"
          ],
          "name": "stdout"
        }
      ]
    },
    {
      "cell_type": "markdown",
      "metadata": {
        "id": "wppIBwDh4ily"
      },
      "source": [
        "----\n",
        "## 문제 3. 순서쌍을 둘째 원소를 우선 정렬 (3점)\n",
        "위에서 변형한 `merge_sort`를 활용하는 문제이다.\n",
        "\n",
        "`xs`가 순서쌍(즉, 크기 2인 튜플)진 리스트일 때 `merge_sort(xs,key=func)`의 결과가\n",
        "기본 정렬 순서인 첫째 원소 우선이 아닌 둘째 원소 우선으로 정렬되도록 하고 싶다. 참고로 \n",
        "우선적인 원소가 같아서 순서를 가릴 수 없으면 나머지 원소를 비교해 순서를 매긴다. 예컨대,\n",
        "```\n",
        "   merge_sort([(3,'b'),(4,'a'),(1,'b'),(2,'c')],key=func)\n",
        "=> [(4,'a'),(1,'b'),(3,'b'),(2,'c')]\n",
        "```\n",
        "위의 예에서 `(3,'b')`와 `(1,'b')`는 둘째 원소로만 순서를 가릴 수 없어\n",
        "첫째 원소를 비교했을 때 `1 <= 3`이므로 `(1,'b')`가 `(3,'b')`보다 앞서게 된다.\n",
        "\n",
        "\n",
        "키워드 파라미터 `key`에 인수로 제공할 적절한 함수 `func`가 무엇이 되어야 할지\n",
        "생각하고, 원하는 대로 동작하는지 테스트를 작성해 보라."
      ]
    },
    {
      "cell_type": "code",
      "metadata": {
        "id": "fFq1m6gW4i3v",
        "colab": {
          "base_uri": "https://localhost:8080/"
        },
        "outputId": "378a88f8-cd81-4526-a688-78dd1eeaa77b"
      },
      "source": [
        "def hw3(l, r):\n",
        "  if l[1] == r[1]:\n",
        "    return l[0] <= r[0]\n",
        "  else:\n",
        "    return l[1] < r[1]\n",
        "\n",
        "print(\"문제 3번\")\n",
        "print(merge_sort([(3,'b'),(4,'a'),(1,'b'),(2,'c')],key=hw3))\n",
        "print(merge_sort([(3,'b'),(4,'a'),(1,'b'),(2,'c'), (1, 'c')],key=hw3))"
      ],
      "execution_count": 155,
      "outputs": [
        {
          "output_type": "stream",
          "text": [
            "문제 3번\n",
            "[(4, 'a'), (1, 'b'), (3, 'b'), (2, 'c')]\n",
            "[(4, 'a'), (1, 'b'), (3, 'b'), (1, 'c'), (2, 'c')]\n"
          ],
          "name": "stdout"
        }
      ]
    },
    {
      "cell_type": "markdown",
      "metadata": {
        "id": "IF3Fs1jI0j2a"
      },
      "source": [
        "----\n",
        "## 문제 4. 문자열을 사전순과 반대 순서로 정렬 (4점)\n",
        "마찬가지로 위에서 변형한 `merge_sort`를 활용하는 문제이다.\n",
        "\n",
        "`xs`가 문자열 리스트일 때 `merge_sort(xs,key=func)`의 결과가\n",
        "기본 정렬와 반대로, 즉 사전순의 역순으로 정렬되도록 하고 싶다. 예컨대,\n",
        "```\n",
        "   merge_sort(['apple','orange','bannana', 'beer'],key=func)\n",
        "=> ['orange','beer','bannana','apple']\n",
        "```\n",
        "\n",
        "키워드 파라미터 `key`에 인수로 제공할 적절한 함수 `func`가 무엇이 되어야 할지\n",
        "생각하고, 원하는 대로 동작하는지 테스트를 작성해 보라.\n"
      ]
    },
    {
      "cell_type": "code",
      "metadata": {
        "id": "_HmQtjK24PLn",
        "colab": {
          "base_uri": "https://localhost:8080/"
        },
        "outputId": "18fb5af4-f921-4ee7-ee96-44bf4e82becf"
      },
      "source": [
        "print(merge_sort(['apple','orange','bannana', 'beer'], key=lambda l, r: l > r))\n",
        "print(merge_sort(['apple','orange','bannana', 'beer', 'cass'], key=lambda l, r: l > r))\n"
      ],
      "execution_count": 156,
      "outputs": [
        {
          "output_type": "stream",
          "text": [
            "['orange', 'beer', 'bannana', 'apple']\n",
            "['orange', 'cass', 'beer', 'bannana', 'apple']\n"
          ],
          "name": "stdout"
        }
      ]
    },
    {
      "cell_type": "markdown",
      "metadata": {
        "id": "aRFrmdQz15pi"
      },
      "source": [
        "----\n",
        "## 문제 5. 정수와 문자열이 섞여 있는 리스트의 정렬 (5점)\n",
        "위에서 변형한 `merge_sort`를 활용하는 문제이다.\n",
        "\n",
        "`xs`가 정수와 문자열이 동시에 포함된 리스트일 때\n",
        "`merge_sort(xs,key=func)`의 결과가 정수는 모두 문자열보다 앞에 오도록 하고\n",
        "정수와 문자열끼리는 기본 정렬 순서대로 정렬되도록 하고 싶다.\n",
        "예컨대,\n",
        "```\n",
        "   merge_sort([1,3,'orange',2,'bannana','apple'],key=func)\n",
        "=> [1,2,3,'apple','bannana','orange']\n",
        "```\n",
        "\n",
        "키워드 파라미터 `key`에 인수로 제공할 적절한 함수 `func`가 무엇이 되어야 할지\n",
        "생각하고, 원하는 대로 동작하는지 테스트를 작성해 보라.\n"
      ]
    },
    {
      "cell_type": "code",
      "metadata": {
        "id": "4k0GA90l4ZCo",
        "colab": {
          "base_uri": "https://localhost:8080/"
        },
        "outputId": "ba7b134f-b1ef-4e24-e16a-386e1db9d682"
      },
      "source": [
        "def hw5(l, r):\n",
        "  if type(l) == type(r):\n",
        "    return l < r\n",
        "  else:\n",
        "    if type(l) == type(1):\n",
        "      return True\n",
        "    return False\n",
        "\n",
        "merge_sort([1,3,'orange',2,'bannana','apple'],key=hw5)\n",
        "merge_sort([1,3,'orange',2,'bannana','apple', 'aa'],key=hw5)"
      ],
      "execution_count": 157,
      "outputs": [
        {
          "output_type": "execute_result",
          "data": {
            "text/plain": [
              "[1, 2, 3, 'aa', 'apple', 'bannana', 'orange']"
            ]
          },
          "metadata": {
            "tags": []
          },
          "execution_count": 157
        }
      ]
    },
    {
      "cell_type": "code",
      "metadata": {
        "id": "ovyl8cGOf_gQ"
      },
      "source": [
        ""
      ],
      "execution_count": null,
      "outputs": []
    }
  ]
}