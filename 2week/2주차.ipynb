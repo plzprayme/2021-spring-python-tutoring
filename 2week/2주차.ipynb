{
  "nbformat": 4,
  "nbformat_minor": 0,
  "metadata": {
    "colab": {
      "name": "2주차.ipynb",
      "provenance": [],
      "collapsed_sections": []
    },
    "kernelspec": {
      "name": "python3",
      "display_name": "Python 3"
    },
    "language_info": {
      "name": "python"
    }
  },
  "cells": [
    {
      "cell_type": "markdown",
      "metadata": {
        "id": "nn23fWv15RM7"
      },
      "source": [
        "# Unit 4. 기본 문법 알아보기\n",
        "\n",
        "\n",
        "\n"
      ]
    },
    {
      "cell_type": "markdown",
      "metadata": {
        "id": "ebG_s1eg5VwL"
      },
      "source": [
        "## 4.1 세미콜론\n"
      ]
    },
    {
      "cell_type": "code",
      "metadata": {
        "id": "Myly--HM5VTX"
      },
      "source": [
        "# :(콜론) 다음에는 무조건 들여쓰기\n",
        "if \"B\" == 10:\n",
        " print(\"A\")\n",
        " print(\"B\")\n",
        " if \"B\" == 11:\n",
        "    print(\"C\")\n",
        "    print(\"D\")"
      ],
      "execution_count": null,
      "outputs": []
    },
    {
      "cell_type": "code",
      "metadata": {
        "colab": {
          "base_uri": "https://localhost:8080/"
        },
        "id": "PwmsvyJ-2qDI",
        "outputId": "afe18839-07cc-4595-8714-4a67aad2a100"
      },
      "source": [
        "# 파이썬의 숫자 자료형\n",
        "# 1. 정수형 ex) 1, 2, 3, 0 소수가 없는 녀석들\n",
        "# 2. 실수형 ex) 1.0, 2.1,  소수가 있는 녀석들\n",
        "# 3. 복소수\n",
        "\n",
        "# 컴퓨터는 0과 1로 이루어져 있다.\n",
        "a = 6\n",
        "b = 2\n",
        "c = 5\n",
        "# 파이썬에서는 / 나누면 실수형된다.\n",
        "# 파이썬에서 // 나누면 정수형이 된다.\n",
        "print(a / b)  # 실수로 나누기\n",
        "print(a // b) # 정수로 나누기\n",
        "print(a % c)  # 나머지 연산자 (모듈러 연산자)"
      ],
      "execution_count": null,
      "outputs": [
        {
          "output_type": "stream",
          "text": [
            "3.0\n",
            "3\n",
            "1\n"
          ],
          "name": "stdout"
        }
      ]
    },
    {
      "cell_type": "code",
      "metadata": {
        "colab": {
          "base_uri": "https://localhost:8080/"
        },
        "id": "2hx3ZtJJ88_E",
        "outputId": "f6eed408-2274-4642-93d4-faec69ff119a"
      },
      "source": [
        "a = \"1\"\n",
        "b = 1\n",
        "\n",
        "print(a == b)\n",
        "print(int(a) == b)\n",
        "\n",
        "# 형변환\n",
        "print(int(a) + b) # 숫자 + 숫자 => 더해진다.\n",
        "print(a + str(b)) # 문자열 + 문자열 => 합쳐진다."
      ],
      "execution_count": null,
      "outputs": [
        {
          "output_type": "stream",
          "text": [
            "False\n",
            "True\n",
            "2\n",
            "11\n"
          ],
          "name": "stdout"
        }
      ]
    },
    {
      "cell_type": "code",
      "metadata": {
        "colab": {
          "base_uri": "https://localhost:8080/"
        },
        "id": "KuflJebp9gBY",
        "outputId": "e44f9c7e-cd14-4841-cca6-71a0f9214960"
      },
      "source": [
        "a = \"A\"\n",
        "print(type(a))\n",
        "a = 1\n",
        "print(type(a))\n",
        "a = 1.0\n",
        "print(type(a))"
      ],
      "execution_count": null,
      "outputs": [
        {
          "output_type": "stream",
          "text": [
            "<class 'str'>\n",
            "<class 'int'>\n",
            "<class 'float'>\n"
          ],
          "name": "stdout"
        }
      ]
    },
    {
      "cell_type": "code",
      "metadata": {
        "colab": {
          "base_uri": "https://localhost:8080/"
        },
        "id": "N-5boxYt-W1U",
        "outputId": "a2c2d8ff-73a3-4dde-b766-da66967e220a"
      },
      "source": [
        "a, b, c = 1, 2, 3\n",
        "print(f'a: {a}, b: {b}, c: {c}')\n",
        "a, b, c = c, b, a\n",
        "print(f'a: {a}, b: {b}, c: {c}')"
      ],
      "execution_count": null,
      "outputs": [
        {
          "output_type": "stream",
          "text": [
            "a: 1, b: 2, c: 3\n",
            "a: 3, b: 2, c: 1\n"
          ],
          "name": "stdout"
        }
      ]
    },
    {
      "cell_type": "code",
      "metadata": {
        "colab": {
          "base_uri": "https://localhost:8080/",
          "height": 559
        },
        "id": "GkpxDmK8-3B2",
        "outputId": "b969fb15-4a16-4f3f-c479-98ffba79a289"
      },
      "source": [
        "# 유튜브 검색창\n",
        "# 카더가든\n",
        "a = input('검색어를 입력해주세요: ')\n",
        "print(f\"'{a}'을/를 검색합니다.\")"
      ],
      "execution_count": null,
      "outputs": [
        {
          "output_type": "error",
          "ename": "KeyboardInterrupt",
          "evalue": "ignored",
          "traceback": [
            "\u001b[0;31m---------------------------------------------------------------------------\u001b[0m",
            "\u001b[0;31mKeyboardInterrupt\u001b[0m                         Traceback (most recent call last)",
            "\u001b[0;32m/usr/local/lib/python3.7/dist-packages/ipykernel/kernelbase.py\u001b[0m in \u001b[0;36m_input_request\u001b[0;34m(self, prompt, ident, parent, password)\u001b[0m\n\u001b[1;32m    728\u001b[0m             \u001b[0;32mtry\u001b[0m\u001b[0;34m:\u001b[0m\u001b[0;34m\u001b[0m\u001b[0;34m\u001b[0m\u001b[0m\n\u001b[0;32m--> 729\u001b[0;31m                 \u001b[0mident\u001b[0m\u001b[0;34m,\u001b[0m \u001b[0mreply\u001b[0m \u001b[0;34m=\u001b[0m \u001b[0mself\u001b[0m\u001b[0;34m.\u001b[0m\u001b[0msession\u001b[0m\u001b[0;34m.\u001b[0m\u001b[0mrecv\u001b[0m\u001b[0;34m(\u001b[0m\u001b[0mself\u001b[0m\u001b[0;34m.\u001b[0m\u001b[0mstdin_socket\u001b[0m\u001b[0;34m,\u001b[0m \u001b[0;36m0\u001b[0m\u001b[0;34m)\u001b[0m\u001b[0;34m\u001b[0m\u001b[0;34m\u001b[0m\u001b[0m\n\u001b[0m\u001b[1;32m    730\u001b[0m             \u001b[0;32mexcept\u001b[0m \u001b[0mException\u001b[0m\u001b[0;34m:\u001b[0m\u001b[0;34m\u001b[0m\u001b[0;34m\u001b[0m\u001b[0m\n",
            "\u001b[0;32m/usr/local/lib/python3.7/dist-packages/jupyter_client/session.py\u001b[0m in \u001b[0;36mrecv\u001b[0;34m(self, socket, mode, content, copy)\u001b[0m\n\u001b[1;32m    802\u001b[0m         \u001b[0;32mtry\u001b[0m\u001b[0;34m:\u001b[0m\u001b[0;34m\u001b[0m\u001b[0;34m\u001b[0m\u001b[0m\n\u001b[0;32m--> 803\u001b[0;31m             \u001b[0mmsg_list\u001b[0m \u001b[0;34m=\u001b[0m \u001b[0msocket\u001b[0m\u001b[0;34m.\u001b[0m\u001b[0mrecv_multipart\u001b[0m\u001b[0;34m(\u001b[0m\u001b[0mmode\u001b[0m\u001b[0;34m,\u001b[0m \u001b[0mcopy\u001b[0m\u001b[0;34m=\u001b[0m\u001b[0mcopy\u001b[0m\u001b[0;34m)\u001b[0m\u001b[0;34m\u001b[0m\u001b[0;34m\u001b[0m\u001b[0m\n\u001b[0m\u001b[1;32m    804\u001b[0m         \u001b[0;32mexcept\u001b[0m \u001b[0mzmq\u001b[0m\u001b[0;34m.\u001b[0m\u001b[0mZMQError\u001b[0m \u001b[0;32mas\u001b[0m \u001b[0me\u001b[0m\u001b[0;34m:\u001b[0m\u001b[0;34m\u001b[0m\u001b[0;34m\u001b[0m\u001b[0m\n",
            "\u001b[0;32m/usr/local/lib/python3.7/dist-packages/zmq/sugar/socket.py\u001b[0m in \u001b[0;36mrecv_multipart\u001b[0;34m(self, flags, copy, track)\u001b[0m\n\u001b[1;32m    582\u001b[0m         \"\"\"\n\u001b[0;32m--> 583\u001b[0;31m         \u001b[0mparts\u001b[0m \u001b[0;34m=\u001b[0m \u001b[0;34m[\u001b[0m\u001b[0mself\u001b[0m\u001b[0;34m.\u001b[0m\u001b[0mrecv\u001b[0m\u001b[0;34m(\u001b[0m\u001b[0mflags\u001b[0m\u001b[0;34m,\u001b[0m \u001b[0mcopy\u001b[0m\u001b[0;34m=\u001b[0m\u001b[0mcopy\u001b[0m\u001b[0;34m,\u001b[0m \u001b[0mtrack\u001b[0m\u001b[0;34m=\u001b[0m\u001b[0mtrack\u001b[0m\u001b[0;34m)\u001b[0m\u001b[0;34m]\u001b[0m\u001b[0;34m\u001b[0m\u001b[0;34m\u001b[0m\u001b[0m\n\u001b[0m\u001b[1;32m    584\u001b[0m         \u001b[0;31m# have first part already, only loop while more to receive\u001b[0m\u001b[0;34m\u001b[0m\u001b[0;34m\u001b[0m\u001b[0;34m\u001b[0m\u001b[0m\n",
            "\u001b[0;32mzmq/backend/cython/socket.pyx\u001b[0m in \u001b[0;36mzmq.backend.cython.socket.Socket.recv\u001b[0;34m()\u001b[0m\n",
            "\u001b[0;32mzmq/backend/cython/socket.pyx\u001b[0m in \u001b[0;36mzmq.backend.cython.socket.Socket.recv\u001b[0;34m()\u001b[0m\n",
            "\u001b[0;32mzmq/backend/cython/socket.pyx\u001b[0m in \u001b[0;36mzmq.backend.cython.socket._recv_copy\u001b[0;34m()\u001b[0m\n",
            "\u001b[0;32m/usr/local/lib/python3.7/dist-packages/zmq/backend/cython/checkrc.pxd\u001b[0m in \u001b[0;36mzmq.backend.cython.checkrc._check_rc\u001b[0;34m()\u001b[0m\n",
            "\u001b[0;31mKeyboardInterrupt\u001b[0m: ",
            "\nDuring handling of the above exception, another exception occurred:\n",
            "\u001b[0;31mKeyboardInterrupt\u001b[0m                         Traceback (most recent call last)",
            "\u001b[0;32m<ipython-input-64-b2808666cd53>\u001b[0m in \u001b[0;36m<module>\u001b[0;34m()\u001b[0m\n\u001b[1;32m      1\u001b[0m \u001b[0;31m# 유튜브 검색창\u001b[0m\u001b[0;34m\u001b[0m\u001b[0;34m\u001b[0m\u001b[0;34m\u001b[0m\u001b[0m\n\u001b[1;32m      2\u001b[0m \u001b[0;31m# 카더가든\u001b[0m\u001b[0;34m\u001b[0m\u001b[0;34m\u001b[0m\u001b[0;34m\u001b[0m\u001b[0m\n\u001b[0;32m----> 3\u001b[0;31m \u001b[0ma\u001b[0m \u001b[0;34m=\u001b[0m \u001b[0minput\u001b[0m\u001b[0;34m(\u001b[0m\u001b[0;34m'검색어를 입력해주세요: '\u001b[0m\u001b[0;34m)\u001b[0m\u001b[0;34m\u001b[0m\u001b[0;34m\u001b[0m\u001b[0m\n\u001b[0m\u001b[1;32m      4\u001b[0m \u001b[0mprint\u001b[0m\u001b[0;34m(\u001b[0m\u001b[0;34mf\"'{a}'을/를 검색합니다.\"\u001b[0m\u001b[0;34m)\u001b[0m\u001b[0;34m\u001b[0m\u001b[0;34m\u001b[0m\u001b[0m\n",
            "\u001b[0;32m/usr/local/lib/python3.7/dist-packages/ipykernel/kernelbase.py\u001b[0m in \u001b[0;36mraw_input\u001b[0;34m(self, prompt)\u001b[0m\n\u001b[1;32m    702\u001b[0m             \u001b[0mself\u001b[0m\u001b[0;34m.\u001b[0m\u001b[0m_parent_ident\u001b[0m\u001b[0;34m,\u001b[0m\u001b[0;34m\u001b[0m\u001b[0;34m\u001b[0m\u001b[0m\n\u001b[1;32m    703\u001b[0m             \u001b[0mself\u001b[0m\u001b[0;34m.\u001b[0m\u001b[0m_parent_header\u001b[0m\u001b[0;34m,\u001b[0m\u001b[0;34m\u001b[0m\u001b[0;34m\u001b[0m\u001b[0m\n\u001b[0;32m--> 704\u001b[0;31m             \u001b[0mpassword\u001b[0m\u001b[0;34m=\u001b[0m\u001b[0;32mFalse\u001b[0m\u001b[0;34m,\u001b[0m\u001b[0;34m\u001b[0m\u001b[0;34m\u001b[0m\u001b[0m\n\u001b[0m\u001b[1;32m    705\u001b[0m         )\n\u001b[1;32m    706\u001b[0m \u001b[0;34m\u001b[0m\u001b[0m\n",
            "\u001b[0;32m/usr/local/lib/python3.7/dist-packages/ipykernel/kernelbase.py\u001b[0m in \u001b[0;36m_input_request\u001b[0;34m(self, prompt, ident, parent, password)\u001b[0m\n\u001b[1;32m    732\u001b[0m             \u001b[0;32mexcept\u001b[0m \u001b[0mKeyboardInterrupt\u001b[0m\u001b[0;34m:\u001b[0m\u001b[0;34m\u001b[0m\u001b[0;34m\u001b[0m\u001b[0m\n\u001b[1;32m    733\u001b[0m                 \u001b[0;31m# re-raise KeyboardInterrupt, to truncate traceback\u001b[0m\u001b[0;34m\u001b[0m\u001b[0;34m\u001b[0m\u001b[0;34m\u001b[0m\u001b[0m\n\u001b[0;32m--> 734\u001b[0;31m                 \u001b[0;32mraise\u001b[0m \u001b[0mKeyboardInterrupt\u001b[0m\u001b[0;34m\u001b[0m\u001b[0;34m\u001b[0m\u001b[0m\n\u001b[0m\u001b[1;32m    735\u001b[0m             \u001b[0;32melse\u001b[0m\u001b[0;34m:\u001b[0m\u001b[0;34m\u001b[0m\u001b[0;34m\u001b[0m\u001b[0m\n\u001b[1;32m    736\u001b[0m                 \u001b[0;32mbreak\u001b[0m\u001b[0;34m\u001b[0m\u001b[0;34m\u001b[0m\u001b[0m\n",
            "\u001b[0;31mKeyboardInterrupt\u001b[0m: "
          ]
        }
      ]
    },
    {
      "cell_type": "code",
      "metadata": {
        "id": "_-Dzsdkc_aka"
      },
      "source": [
        "# 한번에 여러개 입력받기\n",
        "# split() -> 매개변수가 없을 때는 스페이스바를 기준으로\n",
        "# 그 외는 split(\"구분할 문자열\") 로 자른다.\n",
        "garden, jang, jan = input('검색어를 입력해주세요: ').split(\",\")\n",
        "print(garden, jang, jan, sep=\", \")\n",
        "# print(garden)\n",
        "# print(jang)\n",
        "# print(jan)"
      ],
      "execution_count": null,
      "outputs": []
    },
    {
      "cell_type": "code",
      "metadata": {
        "id": "bBle7CazBz3j"
      },
      "source": [
        "# &&    ||   !\n",
        "# and   or  not\n",
        "\n",
        "if 3 > 1 and 2 > 1:\n",
        "  print(\"Bigger\")"
      ],
      "execution_count": null,
      "outputs": []
    },
    {
      "cell_type": "code",
      "metadata": {
        "id": "C9km0tx0__hF"
      },
      "source": [
        "sss = '문자열'\n",
        "sss = \"문자열\"\n",
        "# char ''\n",
        "# char[] \"\""
      ],
      "execution_count": null,
      "outputs": []
    },
    {
      "cell_type": "code",
      "metadata": {
        "id": "bTJzOc5AC0Z9"
      },
      "source": [
        "# split() -> 배열을 리턴합니다.\n",
        "hello = \"안녕하세요 황성찬입니다\"\n",
        "print(hello)\n",
        "front, back = hello.split()\n",
        "print(hello.split())\n",
        "\n",
        "person = ['황성찬', 27, 175, True]\n",
        "\n",
        "person_dict = {\n",
        "    '이름': '황성찬',\n",
        "    '나이': 27,\n",
        "    '키': 175,\n",
        "    '재학여부': True\n",
        "}\n",
        "print(person_dict['이름'])\n",
        "\n",
        "# range(숫자) -> 0 ~ 숫자-1 까지 생성해준다.\n",
        "for i in range(4):\n",
        "  print(i)"
      ],
      "execution_count": null,
      "outputs": []
    },
    {
      "cell_type": "code",
      "metadata": {
        "id": "2bt09JaOC7GY"
      },
      "source": [
        "# 튜플과 리스트의 차이\n",
        "\n",
        "# 리스트는 값 수정이 가능하다.\n",
        "# 튜플은 값 수정이 안된다.\n",
        "\n",
        "a = (38, 21, 53, 62, 19)\n",
        "print(a)\n",
        "# a[0] = 21\n",
        "print(a)\n",
        "b = [38, 21, 53, 62, 19]\n",
        "print(b)\n",
        "b[0] = 21\n",
        "b.append(5)\n",
        "print(b)\n"
      ],
      "execution_count": null,
      "outputs": []
    },
    {
      "cell_type": "code",
      "metadata": {
        "id": "cbQxl6YbD2H4"
      },
      "source": [
        "lotto = [7, 19, 23, 24, 36, 39]\n",
        "my_lotto = [1, 2, 3, 4, 5, 6]\n",
        "# my_lotto[0] in lotto\n",
        "number = \"백오십삼\"\n",
        "\"백\" not in number"
      ],
      "execution_count": null,
      "outputs": []
    },
    {
      "cell_type": "code",
      "metadata": {
        "id": "Ziykr5mhE9h2"
      },
      "source": [
        "# lotto[len(lotto)-1]\n",
        "lotto[-1]\n",
        "lotto[:-1]"
      ],
      "execution_count": null,
      "outputs": []
    },
    {
      "cell_type": "code",
      "metadata": {
        "colab": {
          "base_uri": "https://localhost:8080/"
        },
        "id": "ObBCzL6_FUZt",
        "outputId": "598b3ed2-d9e0-45be-a5b7-4940cbec2376"
      },
      "source": [
        "a = 123\n",
        "\n",
        "print(\"======\")\n",
        "\n",
        "print(a % 10)\n",
        "a = a // 10\n",
        "print(a)\n",
        "\n",
        "print(\"======\")\n",
        "\n",
        "\n",
        "print(a % 10)\n",
        "a = a // 10\n",
        "print(a)"
      ],
      "execution_count": null,
      "outputs": [
        {
          "output_type": "stream",
          "text": [
            "======\n",
            "3\n",
            "12\n",
            "======\n",
            "2\n",
            "1\n"
          ],
          "name": "stdout"
        }
      ]
    },
    {
      "cell_type": "code",
      "metadata": {
        "id": "A5w4xmLuIajw"
      },
      "source": [
        "# 프로그래머스 코드\n",
        "def solution(n):\n",
        "  return sum([int(i) for i in str(n)])"
      ],
      "execution_count": 76,
      "outputs": []
    }
  ]
}